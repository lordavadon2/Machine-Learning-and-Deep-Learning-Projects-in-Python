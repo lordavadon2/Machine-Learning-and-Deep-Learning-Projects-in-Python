{
 "cells": [
  {
   "cell_type": "code",
   "execution_count": null,
   "id": "83f7a076-346c-41c3-9f93-868d21efebeb",
   "metadata": {},
   "outputs": [],
   "source": [
    "%config IPCompleter.use_jedi = True"
   ]
  },
  {
   "cell_type": "code",
   "execution_count": null,
   "id": "656e62a2-3f50-4adb-bfb7-a2ffca1a057c",
   "metadata": {},
   "outputs": [],
   "source": [
    "# install requirements\n",
    "import numpy as np\n",
    "import pandas as pd\n",
    "\n",
    "import matplotlib.pyplot as plt\n",
    "import seaborn as sns\n",
    "import plotly.express as px\n",
    "\n",
    "from sklearn.model_selection import train_test_split\n",
    "from sklearn.linear_model import PassiveAggressiveRegressor\n",
    "from wordcloud import WordCloud, STOPWORDS, ImageColorGenerator"
   ]
  },
  {
   "cell_type": "code",
   "execution_count": null,
   "id": "3b701664-46f2-44ac-b590-74e8dba4bc07",
   "metadata": {},
   "outputs": [],
   "source": [
    "# Read data form file\n",
    "data = pd.read_csv('Instagram.csv', encoding='latin1')\n",
    "data.head()"
   ]
  },
  {
   "cell_type": "code",
   "execution_count": null,
   "id": "e0ce7e7a-3e06-41ec-82fd-1ee09ee3e73e",
   "metadata": {},
   "outputs": [],
   "source": [
    "# check data for null\n",
    "data.isnull().sum()"
   ]
  },
  {
   "cell_type": "code",
   "execution_count": null,
   "id": "6cf5b3ab-2bf8-45dc-845d-e324eb662f0c",
   "metadata": {},
   "outputs": [],
   "source": [
    "# Cheack data for NaN\n",
    "data.isna().sum()"
   ]
  },
  {
   "cell_type": "code",
   "execution_count": null,
   "id": "e3b25f3b-c98a-49dc-a422-d7baf3b6d620",
   "metadata": {},
   "outputs": [],
   "source": [
    "# Plot grafic\n",
    "plt.figure(figsize=(10, 8))\n",
    "plt.style.use('fivethirtyeight')\n",
    "plt.title('Distribution of Impression From Home')\n",
    "sns.distplot(data['From Home'])\n",
    "plt.show()"
   ]
  },
  {
   "cell_type": "code",
   "execution_count": null,
   "id": "7c822aeb-2b81-4ceb-94ab-503507da54ce",
   "metadata": {},
   "outputs": [],
   "source": [
    "# Plot grafic\n",
    "plt.figure(figsize=(10, 8))\n",
    "plt.title('Distribution of Impression From Hashtags')\n",
    "sns.distplot(data['From Hashtags'])\n",
    "plt.show()"
   ]
  },
  {
   "cell_type": "code",
   "execution_count": null,
   "id": "7fb24957-aebd-4bf4-8fd0-931a3fa12869",
   "metadata": {},
   "outputs": [],
   "source": [
    "# Plot grafic\n",
    "plt.figure(figsize=(10, 8))\n",
    "plt.title('Distribution of Impression From Explore')\n",
    "sns.distplot(data['From Explore'])\n",
    "plt.show()"
   ]
  },
  {
   "cell_type": "code",
   "execution_count": null,
   "id": "b7df6595-d800-4cad-9e9a-7c5b60a6f4e9",
   "metadata": {},
   "outputs": [],
   "source": [
    "home = data['From Home'].sum()\n",
    "hashtags = data['From Hashtags'].sum()\n",
    "explore = data['From Explore'].sum()\n",
    "other = data['From Other'].sum()\n",
    "\n",
    "labels = ['From Home', 'From Hashtags', 'From Explore', 'From Other']\n",
    "values = [home, hashtags, explore, other]\n",
    "\n",
    "fig = px.pie(data, values=values, names=labels, title='Impressions on Instagram posts from various sources', hole=0.5)\n",
    "fig.show()"
   ]
  },
  {
   "cell_type": "code",
   "execution_count": null,
   "id": "7edba970-ed9c-444a-a2d8-5a9ebfd7d544",
   "metadata": {},
   "outputs": [],
   "source": [
    "# Analyzing content\n",
    "text = \" \".join(i for i in data.Caption)\n",
    "stopwords = set(STOPWORDS)\n",
    "wordcloud = WordCloud(stopwords=stopwords, background_color=\"white\").generate(text)\n",
    "plt.style.use('classic')\n",
    "plt.figure( figsize=(12,10))\n",
    "plt.imshow(wordcloud, interpolation='bilinear')\n",
    "plt.axis(\"off\")\n",
    "plt.show()"
   ]
  },
  {
   "cell_type": "code",
   "execution_count": null,
   "id": "356215b2-3a9c-4afd-a062-f6fada47879f",
   "metadata": {},
   "outputs": [],
   "source": [
    "text = \" \".join(i for i in data.Hashtags)\n",
    "stopwords = set(STOPWORDS)\n",
    "wordcloud = WordCloud(stopwords=stopwords, background_color=\"white\").generate(text)\n",
    "plt.figure( figsize=(12,10))\n",
    "plt.imshow(wordcloud, interpolation='bilinear')\n",
    "plt.axis(\"off\")\n",
    "plt.show()"
   ]
  },
  {
   "cell_type": "code",
   "execution_count": null,
   "id": "2062bdd8-cb2b-48a4-bb33-a1ee9acd46df",
   "metadata": {},
   "outputs": [],
   "source": [
    "# Analyzing Relationships\n",
    "figure = px.scatter(data_frame = data, x=\"Impressions\",\n",
    "                    y=\"Likes\", size=\"Likes\", trendline=\"ols\", \n",
    "                    title = \"Relationship Between Likes and Impressions\")\n",
    "figure.show()"
   ]
  },
  {
   "cell_type": "code",
   "execution_count": null,
   "id": "0ff63d7a-6d97-4dc5-9735-7eabc0f010f6",
   "metadata": {},
   "outputs": [],
   "source": [
    "figure = px.scatter(data_frame = data, x=\"Impressions\",\n",
    "                    y=\"Comments\", size=\"Comments\", trendline=\"ols\", \n",
    "                    title = \"Relationship Between Comments and Total Impressions\")\n",
    "figure.show()"
   ]
  },
  {
   "cell_type": "code",
   "execution_count": null,
   "id": "368a355a-1de6-441a-b54c-4d58b4df4e61",
   "metadata": {},
   "outputs": [],
   "source": [
    "figure = px.scatter(data_frame = data, x=\"Impressions\",\n",
    "                    y=\"Shares\", size=\"Shares\", trendline=\"ols\", \n",
    "                    title = \"Relationship Between Shares and Total Impressions\")\n",
    "figure.show()"
   ]
  },
  {
   "cell_type": "code",
   "execution_count": null,
   "id": "e314b0d5-c717-41c1-8ab5-b96b6ebe2259",
   "metadata": {},
   "outputs": [],
   "source": [
    "figure = px.scatter(data_frame = data, x=\"Impressions\",\n",
    "                    y=\"Saves\", size=\"Saves\", trendline=\"ols\", \n",
    "                    title = \"Relationship Between Post Saves and Total Impressions\")\n",
    "figure.show()"
   ]
  },
  {
   "cell_type": "code",
   "execution_count": null,
   "id": "bb4ec20b-a3be-4903-8cda-2a52fc96dc49",
   "metadata": {},
   "outputs": [],
   "source": [
    "data_numeric = data.select_dtypes(include=[np.number])\n",
    "correlation = data_numeric.corr()\n",
    "plt.figure(figsize=(10, 8))\n",
    "sns.heatmap(correlation, annot=True, cmap='coolwarm')\n",
    "plt.title('Heatmap of Correlation')\n",
    "plt.show()"
   ]
  },
  {
   "cell_type": "code",
   "execution_count": null,
   "id": "94d7f75d-ed99-433e-b558-df2c8fa08191",
   "metadata": {},
   "outputs": [],
   "source": [
    "# Analyzing Conversion Rate\n",
    "conversion_rate = (data[\"Follows\"].sum() / data[\"Profile Visits\"].sum()) * 100\n",
    "print(conversion_rate)"
   ]
  },
  {
   "cell_type": "code",
   "execution_count": null,
   "id": "79ba39a1-175b-42ed-8887-e35ea056fc4a",
   "metadata": {},
   "outputs": [],
   "source": [
    "figure = px.scatter(data_frame = data, x=\"Profile Visits\",\n",
    "                    y=\"Follows\", size=\"Follows\", trendline=\"ols\", \n",
    "                    title = \"Relationship Between Profile Visits and Followers Gained\")\n",
    "figure.show()"
   ]
  },
  {
   "cell_type": "code",
   "execution_count": null,
   "id": "e95afb34-eeea-4b56-816c-344015b865ec",
   "metadata": {},
   "outputs": [],
   "source": [
    "# Prepare data\n",
    "X = np.array(data[['Likes', 'Saves', 'Comments', 'Shares', \n",
    "                   'Profile Visits', 'Follows']])\n",
    "y = np.array(data[\"Impressions\"])\n",
    "X_train, X_test, y_train, y_test = train_test_split(X, y, \n",
    "                                                test_size=0.2, \n",
    "                                                random_state=42)"
   ]
  },
  {
   "cell_type": "code",
   "execution_count": null,
   "id": "9d2eb439-946c-4d7f-937b-d4142a06eb36",
   "metadata": {},
   "outputs": [],
   "source": [
    "# Fit model\n",
    "model = PassiveAggressiveRegressor()\n",
    "model.fit(X_train, y_train)\n",
    "model.score(X_test, y_test)"
   ]
  },
  {
   "cell_type": "code",
   "execution_count": null,
   "id": "3c6554b1-60a3-4521-b74c-cfb9c3226f2f",
   "metadata": {},
   "outputs": [],
   "source": [
    "# Features = [['Likes','Saves', 'Comments', 'Shares', 'Profile Visits', 'Follows']]\n",
    "features = np.array([[282.0, 233.0, 4.0, 9.0, 165.0, 54.0]])\n",
    "model.predict(features)"
   ]
  },
  {
   "cell_type": "code",
   "execution_count": null,
   "id": "9fe2a75c-df1e-4457-9bc5-7d73fa1c6614",
   "metadata": {},
   "outputs": [],
   "source": []
  }
 ],
 "metadata": {
  "kernelspec": {
   "display_name": "Python 3 (ipykernel)",
   "language": "python",
   "name": "python3"
  },
  "language_info": {
   "codemirror_mode": {
    "name": "ipython",
    "version": 3
   },
   "file_extension": ".py",
   "mimetype": "text/x-python",
   "name": "python",
   "nbconvert_exporter": "python",
   "pygments_lexer": "ipython3",
   "version": "3.8.10"
  }
 },
 "nbformat": 4,
 "nbformat_minor": 5
}
