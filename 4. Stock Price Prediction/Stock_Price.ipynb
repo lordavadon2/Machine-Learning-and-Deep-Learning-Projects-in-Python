{
 "cells": [
  {
   "cell_type": "markdown",
   "id": "92827595-2855-4da6-b7c6-f4d624a540be",
   "metadata": {},
   "source": [
    "## Stock Price Prediction"
   ]
  },
  {
   "cell_type": "code",
   "execution_count": null,
   "id": "ef6071a4-9096-44cf-9596-c9728fb42764",
   "metadata": {},
   "outputs": [],
   "source": [
    "# Import requirements\n",
    "import datetime\n",
    "\n",
    "import numpy as np\n",
    "import pandas as pd\n",
    "import plotly.express as px\n",
    "import plotly.graph_objects as go\n",
    "import matplotlib.pyplot as plt\n",
    "\n",
    "try:\n",
    "    import yfinance as yf\n",
    "except ImportError:\n",
    "    !pip install yfinance\n",
    "    import yfinance as yf\n",
    "\n",
    "from sklearn.model_selection import train_test_split\n",
    "\n",
    "import tensorflow as tf\n",
    "from tensorflow.keras.models import Sequential\n",
    "from tensorflow.keras.layers import Dense, LSTM"
   ]
  },
  {
   "cell_type": "code",
   "execution_count": null,
   "id": "608e2b7a-b5a5-418c-97e3-169c6515cdda",
   "metadata": {},
   "outputs": [],
   "source": [
    "# Download dataset\n",
    "today = datetime.date.today()\n",
    "\n",
    "d1 = today.strftime('%Y-%m-%d')\n",
    "end_date = d1\n",
    "\n",
    "d2 = (today - datetime.timedelta(days=768)).strftime('%Y-%m-%d')\n",
    "start_date = d2\n",
    "\n",
    "df = yf.download('AAPL',\n",
    "                start=start_date,\n",
    "                end=end_date,\n",
    "                progress=False)\n",
    "df.reset_index(inplace=True)"
   ]
  },
  {
   "cell_type": "code",
   "execution_count": null,
   "id": "a6f1dae0-6cbd-4b1d-b963-c436d12b13f8",
   "metadata": {},
   "outputs": [],
   "source": [
    "# Show data tail\n",
    "df.tail()"
   ]
  },
  {
   "cell_type": "code",
   "execution_count": null,
   "id": "698bf424-4257-481e-a90c-b9170024f4ee",
   "metadata": {},
   "outputs": [],
   "source": [
    "# Show shape\n",
    "df.shape"
   ]
  },
  {
   "cell_type": "code",
   "execution_count": null,
   "id": "a0291346-08a9-4884-a9c5-33db79ce7a10",
   "metadata": {},
   "outputs": [],
   "source": [
    "# Plot graf\n",
    "figure = go.Figure(data=[go.Candlestick(x=df['Date'],\n",
    "                                       open=df['Open'],\n",
    "                                       high=df['High'],\n",
    "                                       low=df['Low'],\n",
    "                                       close=df['Close'])])\n",
    "figure.update_layout(title='Apple Price Analizy',\n",
    "                    xaxis_rangeslider_visible=False)\n",
    "figure.show()"
   ]
  },
  {
   "cell_type": "code",
   "execution_count": null,
   "id": "054fd2dd-c96d-4859-82ce-3b88a1819767",
   "metadata": {},
   "outputs": [],
   "source": [
    "# Find correlation\n",
    "corr = df.corr()\n",
    "corr['Close'].sort_values(ascending=False)"
   ]
  },
  {
   "cell_type": "code",
   "execution_count": null,
   "id": "a48fd8ab-c044-4d95-8266-59cd9c4ba335",
   "metadata": {},
   "outputs": [],
   "source": [
    "# Prepare dataset\n",
    "X = df.drop(['Date', 'Close'], axis=1).values\n",
    "y = df['Close'].values.reshape(-1, 1)\n",
    "\n",
    "X_train, X_test, y_train, y_test = train_test_split(X, y, test_size=0.2, random_state=28)"
   ]
  },
  {
   "cell_type": "code",
   "execution_count": null,
   "id": "8405b78a-2941-4911-9735-434169b9a8c8",
   "metadata": {},
   "outputs": [],
   "source": [
    "# Create the LSTM model\n",
    "model = Sequential()\n",
    "model.add(LSTM(units=50, return_sequences=True, input_shape=(X_train.shape[1], 1)))\n",
    "model.add(LSTM(units=50, return_sequences=False))\n",
    "model.add(Dense(units=25))\n",
    "model.add(Dense(units=1))"
   ]
  },
  {
   "cell_type": "code",
   "execution_count": null,
   "id": "6209b5a5-ea33-44ce-bd92-d0a810808300",
   "metadata": {},
   "outputs": [],
   "source": [
    "# Summary\n",
    "model.summary()"
   ]
  },
  {
   "cell_type": "code",
   "execution_count": null,
   "id": "3bb73d39-dfa6-4932-88f8-35ee32a076f0",
   "metadata": {},
   "outputs": [],
   "source": [
    "# Compile the model\n",
    "model.compile(optimizer='adam', loss='mean_squared_error', metrics=['mae'])"
   ]
  },
  {
   "cell_type": "code",
   "execution_count": null,
   "id": "98dcc1b2-c027-4185-a76e-2f5a64e83de2",
   "metadata": {},
   "outputs": [],
   "source": [
    "# Train the model\n",
    "model.fit(X_train, y_train, epochs=25, batch_size=1)"
   ]
  },
  {
   "cell_type": "code",
   "execution_count": null,
   "id": "38dda00c-69f7-4a9d-a6e6-9d1a1206a6e5",
   "metadata": {},
   "outputs": [],
   "source": [
    "loss, accuracy = model.evaluate(X_test, y_test, verbose=1)\n",
    "print('Test loss:', loss)\n",
    "print('Test accuracy:', accuracy)"
   ]
  },
  {
   "cell_type": "code",
   "execution_count": null,
   "id": "04315d62-4168-49aa-9254-4adfb85b3771",
   "metadata": {},
   "outputs": [],
   "source": [
    "# Plot the predictions on the test data\n",
    "test_predict = model.predict(X_test)\n",
    "\n",
    "plt.plot(test_predict, label='Predictions')\n",
    "plt.plot(y_test, label='Actual')\n",
    "plt.legend()\n",
    "plt.show()"
   ]
  },
  {
   "cell_type": "code",
   "execution_count": null,
   "id": "01536cf7-0af8-46f7-98cb-17c42ed00b0e",
   "metadata": {},
   "outputs": [],
   "source": []
  }
 ],
 "metadata": {
  "kernelspec": {
   "display_name": "Python 3 (ipykernel)",
   "language": "python",
   "name": "python3"
  },
  "language_info": {
   "codemirror_mode": {
    "name": "ipython",
    "version": 3
   },
   "file_extension": ".py",
   "mimetype": "text/x-python",
   "name": "python",
   "nbconvert_exporter": "python",
   "pygments_lexer": "ipython3",
   "version": "3.8.10"
  }
 },
 "nbformat": 4,
 "nbformat_minor": 5
}
