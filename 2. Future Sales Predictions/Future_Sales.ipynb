{
 "cells": [
  {
   "cell_type": "markdown",
   "id": "06cbf405-f6fd-4bf2-ae99-55e8a2a3c46e",
   "metadata": {},
   "source": [
    "## Future Sales Prediction"
   ]
  },
  {
   "cell_type": "code",
   "execution_count": null,
   "id": "2f44acc8-4c86-4cdd-bf19-dfa52c9e030f",
   "metadata": {},
   "outputs": [],
   "source": [
    "# Import requirements\n",
    "import numpy as np\n",
    "import pandas as pd\n",
    "import plotly.express as px\n",
    "import plotly.graph_objects as go\n",
    "\n",
    "from sklearn.model_selection import train_test_split\n",
    "from sklearn.linear_model import LinearRegression"
   ]
  },
  {
   "cell_type": "code",
   "execution_count": null,
   "id": "84c9fcc6-cc17-46a8-8e07-5c79d8b0c3e2",
   "metadata": {},
   "outputs": [],
   "source": [
    "# Create DataFrame from file\n",
    "df = pd.read_csv('./Dataset/advertising.csv')"
   ]
  },
  {
   "cell_type": "code",
   "execution_count": null,
   "id": "68b97d40-a80a-4984-8bde-04184c0192bf",
   "metadata": {},
   "outputs": [],
   "source": [
    "# Show data head\n",
    "df.head()"
   ]
  },
  {
   "cell_type": "code",
   "execution_count": null,
   "id": "8077c973-d0f8-4f6b-b5d8-11d3630bfdee",
   "metadata": {},
   "outputs": [],
   "source": [
    "# Find Null records\n",
    "df.isnull().sum()"
   ]
  },
  {
   "cell_type": "code",
   "execution_count": null,
   "id": "4731e2dd-ee86-4d22-bf2f-60b7e059bfd4",
   "metadata": {},
   "outputs": [],
   "source": [
    "# Find NaN records\n",
    "df.isna().sum()"
   ]
  },
  {
   "cell_type": "code",
   "execution_count": null,
   "id": "85646bbd-0d6c-4d63-a6d8-05973fa1ca0e",
   "metadata": {},
   "outputs": [],
   "source": [
    "#plot scatter size='TV'\n",
    "figure = px.scatter(data_frame=df, x='Sales', y='TV', size='TV', trendline='ols')\n",
    "figure.show()"
   ]
  },
  {
   "cell_type": "code",
   "execution_count": null,
   "id": "532a94e9-cf67-4b26-a1bf-42d8363b2cdd",
   "metadata": {},
   "outputs": [],
   "source": [
    "#plot scatter size='Radio'\n",
    "figure = px.scatter(data_frame=df, x='Sales', y='Radio', size='Radio', trendline='ols')\n",
    "figure.show()"
   ]
  },
  {
   "cell_type": "code",
   "execution_count": null,
   "id": "cad59463-331b-457f-bc55-dc8249f28a0e",
   "metadata": {},
   "outputs": [],
   "source": [
    "# Find correlation\n",
    "corr = df.corr()\n",
    "corr['Sales'].sort_values(ascending=False)"
   ]
  },
  {
   "cell_type": "markdown",
   "id": "d0556e9d-1890-42ba-b2c3-85e871a4b509",
   "metadata": {},
   "source": [
    "## Future Sales Prediction Model"
   ]
  },
  {
   "cell_type": "code",
   "execution_count": null,
   "id": "1b70a1f8-d92c-4315-b4b7-f6efac9087d7",
   "metadata": {},
   "outputs": [],
   "source": [
    "# Prepare dataset\n",
    "X = df.drop('Sales', axis=1).values\n",
    "y = df['Sales'].values\n",
    "\n",
    "X_train, X_test, y_train, y_test = train_test_split(X, y, test_size=0.2, random_state=28)"
   ]
  },
  {
   "cell_type": "code",
   "execution_count": null,
   "id": "171d20ea-7910-46b4-99fd-68d7a279df9d",
   "metadata": {},
   "outputs": [],
   "source": [
    "# Create model an fit\n",
    "model = LinearRegression()\n",
    "model.fit(X_train, y_train)"
   ]
  },
  {
   "cell_type": "code",
   "execution_count": null,
   "id": "0f4ebea1-8eb3-4cbd-abb1-c5c9402370a2",
   "metadata": {},
   "outputs": [],
   "source": [
    "# Model score\n",
    "model.score(X_test, y_test)"
   ]
  },
  {
   "cell_type": "code",
   "execution_count": null,
   "id": "e032a260-4006-49f3-87fd-26d40705a351",
   "metadata": {},
   "outputs": [],
   "source": []
  }
 ],
 "metadata": {
  "kernelspec": {
   "display_name": "Python 3 (ipykernel)",
   "language": "python",
   "name": "python3"
  },
  "language_info": {
   "codemirror_mode": {
    "name": "ipython",
    "version": 3
   },
   "file_extension": ".py",
   "mimetype": "text/x-python",
   "name": "python",
   "nbconvert_exporter": "python",
   "pygments_lexer": "ipython3",
   "version": "3.8.10"
  }
 },
 "nbformat": 4,
 "nbformat_minor": 5
}
