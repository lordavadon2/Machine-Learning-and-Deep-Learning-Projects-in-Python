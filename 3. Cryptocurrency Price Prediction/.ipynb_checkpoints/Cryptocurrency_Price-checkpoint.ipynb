{
 "cells": [
  {
   "cell_type": "markdown",
   "id": "92827595-2855-4da6-b7c6-f4d624a540be",
   "metadata": {},
   "source": [
    "## Cryptocurrency Price Prediction"
   ]
  },
  {
   "cell_type": "code",
   "execution_count": null,
   "id": "b15ba702-fc78-4e0b-8ab2-aa1b2faf3204",
   "metadata": {},
   "outputs": [],
   "source": [
    "# !pip install yfinance autots"
   ]
  },
  {
   "cell_type": "code",
   "execution_count": null,
   "id": "ef6071a4-9096-44cf-9596-c9728fb42764",
   "metadata": {},
   "outputs": [],
   "source": [
    "# Import requirements\n",
    "import datetime\n",
    "\n",
    "import numpy as np\n",
    "import pandas as pd\n",
    "import plotly.express as px\n",
    "import plotly.graph_objects as go\n",
    "\n",
    "try:\n",
    "    import yfinance as yf\n",
    "except ImportError:\n",
    "    !pip install yfinance\n",
    "    import yfinance as yf\n",
    "try:  \n",
    "    from autots import AutoTS\n",
    "except ImportError:\n",
    "    !pip install yfinance autots\n",
    "    from autots import AutoTS"
   ]
  },
  {
   "cell_type": "code",
   "execution_count": null,
   "id": "608e2b7a-b5a5-418c-97e3-169c6515cdda",
   "metadata": {},
   "outputs": [],
   "source": [
    "# Download dataset\n",
    "today = datetime.date.today()\n",
    "\n",
    "d1 = today.strftime('%Y-%m-%d')\n",
    "end_date = d1\n",
    "\n",
    "d2 = (today - datetime.timedelta(days=768)).strftime('%Y-%m-%d')\n",
    "start_date = d2\n",
    "\n",
    "df = yf.download('BTC-USD',\n",
    "                start=start_date,\n",
    "                end=end_date,\n",
    "                progress=False)\n",
    "df.reset_index(inplace=True)"
   ]
  },
  {
   "cell_type": "code",
   "execution_count": null,
   "id": "a6f1dae0-6cbd-4b1d-b963-c436d12b13f8",
   "metadata": {},
   "outputs": [],
   "source": [
    "# Show data head\n",
    "df.head()"
   ]
  },
  {
   "cell_type": "code",
   "execution_count": null,
   "id": "698bf424-4257-481e-a90c-b9170024f4ee",
   "metadata": {},
   "outputs": [],
   "source": [
    "# Show shape\n",
    "df.shape"
   ]
  },
  {
   "cell_type": "code",
   "execution_count": null,
   "id": "a0291346-08a9-4884-a9c5-33db79ce7a10",
   "metadata": {},
   "outputs": [],
   "source": [
    "# Plot graf\n",
    "figure = go.Figure(data=[go.Candlestick(x=df['Date'],\n",
    "                                       open=df['Open'],\n",
    "                                       high=df['High'],\n",
    "                                       low=df['Low'],\n",
    "                                       close=df['Close'])])\n",
    "figure.update_layout(title='Bitcoin Pice Analizy',\n",
    "                    xaxis_rangeslider_visible=False)\n",
    "figure.show()"
   ]
  },
  {
   "cell_type": "code",
   "execution_count": null,
   "id": "054fd2dd-c96d-4859-82ce-3b88a1819767",
   "metadata": {},
   "outputs": [],
   "source": [
    "# Find correlation\n",
    "corr = df.corr()\n",
    "corr['Close'].sort_values(ascending=False)"
   ]
  },
  {
   "cell_type": "code",
   "execution_count": null,
   "id": "5c57c59b-7029-4660-9bf1-8115b5f8f060",
   "metadata": {},
   "outputs": [],
   "source": [
    "# Create model\n",
    "model = AutoTS(forecast_length=30, frequency='infer', ensemble='simple')\n",
    "model = model.fit(df, date_col='Date', value_col='Close', id_col=None)"
   ]
  },
  {
   "cell_type": "code",
   "execution_count": null,
   "id": "a948eca7-f65e-44cd-bafb-a4d14d8e00c1",
   "metadata": {},
   "outputs": [],
   "source": [
    "# Predict model\n",
    "prediction = model.predict()\n",
    "forecast = prediction.forecast\n",
    "forecast"
   ]
  }
 ],
 "metadata": {
  "kernelspec": {
   "display_name": "Python 3 (ipykernel)",
   "language": "python",
   "name": "python3"
  },
  "language_info": {
   "codemirror_mode": {
    "name": "ipython",
    "version": 3
   },
   "file_extension": ".py",
   "mimetype": "text/x-python",
   "name": "python",
   "nbconvert_exporter": "python",
   "pygments_lexer": "ipython3",
   "version": "3.8.10"
  }
 },
 "nbformat": 4,
 "nbformat_minor": 5
}
