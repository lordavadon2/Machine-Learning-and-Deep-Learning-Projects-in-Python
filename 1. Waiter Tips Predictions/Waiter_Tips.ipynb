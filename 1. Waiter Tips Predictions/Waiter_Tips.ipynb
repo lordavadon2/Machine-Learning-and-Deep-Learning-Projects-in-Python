{
 "cells": [
  {
   "cell_type": "markdown",
   "id": "6154dcf2-40be-4e66-9cb8-1bc01e991d38",
   "metadata": {},
   "source": [
    "## Waiter Tips Prediction"
   ]
  },
  {
   "cell_type": "code",
   "execution_count": null,
   "id": "e266061f-f225-4fb1-9a2a-53d7ad850c9d",
   "metadata": {},
   "outputs": [],
   "source": [
    "# Import requirements\n",
    "import numpy as np\n",
    "import pandas as pd\n",
    "import plotly.express as px\n",
    "import plotly.graph_objects as go\n",
    "\n",
    "from sklearn.model_selection import train_test_split\n",
    "from sklearn.linear_model import LinearRegression"
   ]
  },
  {
   "cell_type": "code",
   "execution_count": null,
   "id": "0d3e8892-4d75-46eb-bc12-3c3aec0bb9bc",
   "metadata": {},
   "outputs": [],
   "source": [
    "# Create DataFrame from file\n",
    "df = pd.read_csv('./Dataset/tips.csv')"
   ]
  },
  {
   "cell_type": "code",
   "execution_count": null,
   "id": "d6528967-fbfc-4c3a-9442-5aebd40b5b11",
   "metadata": {},
   "outputs": [],
   "source": [
    "# Show data head\n",
    "df.head()"
   ]
  },
  {
   "cell_type": "code",
   "execution_count": null,
   "id": "8e6cb531-7e93-48c1-a24f-645711c18081",
   "metadata": {},
   "outputs": [],
   "source": [
    "#plot scatter color='day'\n",
    "figure = px.scatter(data_frame=df, x='total_bill', y='tip', size='size', color='day', trendline='ols')\n",
    "figure.show()"
   ]
  },
  {
   "cell_type": "code",
   "execution_count": null,
   "id": "7239a026-aa13-4af8-9633-871ae6921aa7",
   "metadata": {},
   "outputs": [],
   "source": [
    "#plot scatter color='sex'\n",
    "figure = px.scatter(data_frame=df, x='total_bill', y='tip', size='size', color='sex', trendline='ols')\n",
    "figure.show()"
   ]
  },
  {
   "cell_type": "code",
   "execution_count": null,
   "id": "8658be5a-63e0-48e2-ba4a-6ce89beef277",
   "metadata": {},
   "outputs": [],
   "source": [
    "#plot scatter color='time'\n",
    "figure = px.scatter(data_frame=df, x='total_bill', y='tip', size='size', color='time', trendline='ols')\n",
    "figure.show()"
   ]
  },
  {
   "cell_type": "code",
   "execution_count": null,
   "id": "f412c262-342a-4112-84ae-a7b74590023b",
   "metadata": {},
   "outputs": [],
   "source": [
    "#plot pie names='day'\n",
    "figure = px.pie(df, values='tip', names='day', hole=0.5)\n",
    "figure.show()"
   ]
  },
  {
   "cell_type": "code",
   "execution_count": null,
   "id": "5bee23a5-7d41-4a8f-bb4f-8a4b388afcd1",
   "metadata": {},
   "outputs": [],
   "source": [
    "#plot pie names='sex'\n",
    "figure = px.pie(df, values='tip', names='sex', hole=0.5)\n",
    "figure.show()"
   ]
  },
  {
   "cell_type": "code",
   "execution_count": null,
   "id": "ac775084-f61c-438b-8652-e1d4c583eeb1",
   "metadata": {},
   "outputs": [],
   "source": [
    "#plot pie names='sex'\n",
    "figure = px.pie(df, values='tip', names='time', hole=0.5)\n",
    "figure.show()"
   ]
  },
  {
   "cell_type": "markdown",
   "id": "8c9f126f-d246-464e-babe-2a486ab20735",
   "metadata": {},
   "source": [
    "## Waiter Tips Prediction Model"
   ]
  },
  {
   "cell_type": "code",
   "execution_count": null,
   "id": "75c46ffc-3570-406d-a8e8-3ce2a9f83075",
   "metadata": {},
   "outputs": [],
   "source": [
    "# Transform data to categorical\n",
    "df['sex'] = df['sex'].map({'Female': 0, 'Male': 1})\n",
    "df['smoker'] = df['smoker'].map({'No': 0, 'Yes': 1})\n",
    "df['day'] = df['day'].map({'Thur': 0, 'Fri': 1, 'Sat': 2, 'Sun': 3,})\n",
    "df['time'] = df['time'].map({'Lunch': 0, 'Dinner': 1})"
   ]
  },
  {
   "cell_type": "code",
   "execution_count": null,
   "id": "d2ecfdc6-313f-425e-9440-031e79b5f64a",
   "metadata": {},
   "outputs": [],
   "source": [
    "# Show data head\n",
    "df.head()"
   ]
  },
  {
   "cell_type": "code",
   "execution_count": null,
   "id": "f25c1b4a-b878-43f9-8df1-64d26198cbad",
   "metadata": {},
   "outputs": [],
   "source": [
    "# Prepare dataset\n",
    "X = df.drop('tip', axis=1).values\n",
    "y = df['tip'].values\n",
    "\n",
    "X_train, X_test, y_train, y_test = train_test_split(X, y, test_size=0.2, random_state=42)"
   ]
  },
  {
   "cell_type": "code",
   "execution_count": null,
   "id": "35fefa5b-8c1a-48c1-a3ee-ca86d5ea638a",
   "metadata": {},
   "outputs": [],
   "source": [
    "# Create model an fit\n",
    "model = LinearRegression()\n",
    "model.fit(X_train, y_train)"
   ]
  },
  {
   "cell_type": "code",
   "execution_count": null,
   "id": "de920cf4-fb45-44a1-94a6-a1c3df374e59",
   "metadata": {},
   "outputs": [],
   "source": [
    "# Model score\n",
    "model.score(X_test, y_test)"
   ]
  },
  {
   "cell_type": "code",
   "execution_count": null,
   "id": "55b908e7-a03f-4f0a-b342-28ee885496b9",
   "metadata": {},
   "outputs": [],
   "source": []
  }
 ],
 "metadata": {
  "kernelspec": {
   "display_name": "Python 3 (ipykernel)",
   "language": "python",
   "name": "python3"
  },
  "language_info": {
   "codemirror_mode": {
    "name": "ipython",
    "version": 3
   },
   "file_extension": ".py",
   "mimetype": "text/x-python",
   "name": "python",
   "nbconvert_exporter": "python",
   "pygments_lexer": "ipython3",
   "version": "3.8.10"
  }
 },
 "nbformat": 4,
 "nbformat_minor": 5
}
