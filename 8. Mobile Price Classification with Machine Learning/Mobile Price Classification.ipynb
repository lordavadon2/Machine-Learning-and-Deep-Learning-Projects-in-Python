{
 "cells": [
  {
   "cell_type": "code",
   "execution_count": null,
   "id": "3d7f663e-9268-42cc-ae5a-4efe6d16382a",
   "metadata": {},
   "outputs": [],
   "source": [
    "%config IPCompleter.use_jedi = True"
   ]
  },
  {
   "cell_type": "code",
   "execution_count": null,
   "id": "6f0f643e-bcf7-49ae-8b86-ba52ee9bf1de",
   "metadata": {},
   "outputs": [],
   "source": [
    "# install requirements\n",
    "import numpy as np\n",
    "import pandas as pd\n",
    "\n",
    "import matplotlib.pyplot as plt\n",
    "import seaborn as sns\n",
    "import plotly.express as px\n",
    "\n",
    "from sklearn.model_selection import train_test_split\n",
    "from sklearn.linear_model import LinearRegression\n",
    "from sklearn.preprocessing import StandardScaler\n",
    "from sklearn.metrics import mean_absolute_error, mean_squared_error, r2_score\n",
    "sns.set()"
   ]
  },
  {
   "cell_type": "code",
   "execution_count": null,
   "id": "d1f365c5-dcbb-4a0c-a809-8b992ddae9dc",
   "metadata": {},
   "outputs": [],
   "source": [
    "data = pd.read_csv('mobile_prices.csv')\n",
    "data.head()"
   ]
  },
  {
   "cell_type": "code",
   "execution_count": null,
   "id": "f007426e-c671-4e5b-af17-c63701486a68",
   "metadata": {},
   "outputs": [],
   "source": [
    "plt.figure(figsize=(20,15))\n",
    "sns.heatmap(data.corr(), annot=True, cmap='coolwarm')\n",
    "plt.show()"
   ]
  },
  {
   "cell_type": "code",
   "execution_count": null,
   "id": "f29f31c1-3299-4964-b535-4c8c14374e0c",
   "metadata": {},
   "outputs": [],
   "source": [
    "# Prepare data\n",
    "X = data.iloc[:, :-1].values\n",
    "y = data.iloc[:, -1].values\n",
    "X = StandardScaler().fit_transform(X)\n",
    "X_train, X_test, y_train, y_test = train_test_split(X, y, test_size=0.2, random_state=34)"
   ]
  },
  {
   "cell_type": "code",
   "execution_count": null,
   "id": "7529e317-bfec-438a-b4e9-d0fe2386bdea",
   "metadata": {},
   "outputs": [],
   "source": [
    "# Fit model\n",
    "lreg = LinearRegression()\n",
    "lreg.fit(X_train, y_train)\n",
    "y_pred = lreg.predict(X_test)"
   ]
  },
  {
   "cell_type": "code",
   "execution_count": null,
   "id": "b3212e33-a0fb-4dd2-827d-887d8ba63c22",
   "metadata": {},
   "outputs": [],
   "source": [
    "# Show MAE\n",
    "mae = mean_absolute_error(y_test, y_pred)\n",
    "print('Mean Absolute Error:', mae)"
   ]
  },
  {
   "cell_type": "code",
   "execution_count": null,
   "id": "f4105f9c-cb8d-4a3b-a757-06aa72d95e69",
   "metadata": {},
   "outputs": [],
   "source": [
    "# Show MSE\n",
    "mse = mean_squared_error(y_test, y_pred)\n",
    "print('Mean Squared Error:', mse)"
   ]
  },
  {
   "cell_type": "code",
   "execution_count": null,
   "id": "2646db07-699f-4538-889b-c6ff8c51d8b3",
   "metadata": {},
   "outputs": [],
   "source": [
    "# Show RMSE\n",
    "rmse = np.sqrt(mse)\n",
    "print('Root Mean Squared Error:', rmse)"
   ]
  },
  {
   "cell_type": "code",
   "execution_count": null,
   "id": "20551247-e9e4-4bb1-9c6c-73d6d1b3958a",
   "metadata": {},
   "outputs": [],
   "source": [
    "# Show R-Squared\n",
    "r2 = r2_score(y_test, y_pred)\n",
    "print('R-squared Score:', r2)"
   ]
  },
  {
   "cell_type": "code",
   "execution_count": null,
   "id": "7406b514-8a73-4c6e-8e72-e74ee3f377f2",
   "metadata": {},
   "outputs": [],
   "source": []
  }
 ],
 "metadata": {
  "kernelspec": {
   "display_name": "Python 3 (ipykernel)",
   "language": "python",
   "name": "python3"
  },
  "language_info": {
   "codemirror_mode": {
    "name": "ipython",
    "version": 3
   },
   "file_extension": ".py",
   "mimetype": "text/x-python",
   "name": "python",
   "nbconvert_exporter": "python",
   "pygments_lexer": "ipython3",
   "version": "3.8.10"
  }
 },
 "nbformat": 4,
 "nbformat_minor": 5
}
